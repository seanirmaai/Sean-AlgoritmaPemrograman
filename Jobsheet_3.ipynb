{
  "nbformat": 4,
  "nbformat_minor": 0,
  "metadata": {
    "colab": {
      "provenance": [],
      "authorship_tag": "ABX9TyNKQadrBSbNl8yaTdMqSGIK",
      "include_colab_link": true
    },
    "kernelspec": {
      "name": "python3",
      "display_name": "Python 3"
    },
    "language_info": {
      "name": "python"
    }
  },
  "cells": [
    {
      "cell_type": "markdown",
      "metadata": {
        "id": "view-in-github",
        "colab_type": "text"
      },
      "source": [
        "<a href=\"https://colab.research.google.com/github/seanirmaai/Sean-AlgoritmaPemrograman/blob/Penugasan-Bab-E/Jobsheet_3.ipynb\" target=\"_parent\"><img src=\"https://colab.research.google.com/assets/colab-badge.svg\" alt=\"Open In Colab\"/></a>"
      ]
    },
    {
      "cell_type": "markdown",
      "source": [
        "**Praktikum 01 - If Sederhana**"
      ],
      "metadata": {
        "id": "XjFofwCCVP6q"
      }
    },
    {
      "cell_type": "code",
      "source": [
        "nilai = int(input(\"Masukkan nilai ujian: \"))\n",
        "if nilai >= 60:\n",
        "  print(\"Anda Lulus\")"
      ],
      "metadata": {
        "colab": {
          "base_uri": "https://localhost:8080/"
        },
        "id": "e9Kh9zm3axo2",
        "outputId": "868873ee-549d-4b29-8cc8-ab179b14bd47"
      },
      "execution_count": null,
      "outputs": [
        {
          "output_type": "stream",
          "name": "stdout",
          "text": [
            "Masukkan nilai ujian: 70\n",
            "Anda Lulus\n"
          ]
        }
      ]
    },
    {
      "cell_type": "markdown",
      "source": [
        "**Praktikum 02 -  If Else**"
      ],
      "metadata": {
        "id": "Aw_rgPT3a97-"
      }
    },
    {
      "cell_type": "code",
      "source": [
        "nilai = int(input(\"Masukkan nilai ujian: \"))\n",
        "if nilai >= 60:\n",
        "  print(\"Anda Lulus\")\n",
        "else:\n",
        "  print(\"Anda Tidak Lulus\")"
      ],
      "metadata": {
        "colab": {
          "base_uri": "https://localhost:8080/"
        },
        "id": "_gAQSE9JbCm9",
        "outputId": "644b78c3-5f74-47ce-8855-8a6e4eae4a33"
      },
      "execution_count": null,
      "outputs": [
        {
          "output_type": "stream",
          "name": "stdout",
          "text": [
            "Masukkan nilai ujian: 50\n",
            "Anda Tidak Lulus\n"
          ]
        }
      ]
    },
    {
      "cell_type": "markdown",
      "source": [
        "**Praktikum 03 - If-Elif-Else**"
      ],
      "metadata": {
        "id": "5vtEasAYbS07"
      }
    },
    {
      "cell_type": "code",
      "source": [
        "nilai = int(input(\"Masukkan nilai akhir: \"))\n",
        "\n",
        "if nilai >= 85:\n",
        "  grade = \"A\"\n",
        "elif nilai >= 70:\n",
        "  grade = \"B\"\n",
        "elif nilai  >= 55:\n",
        "  grade = \"C\"\n",
        "elif nilai >= 40:\n",
        "  grade = \"D\"\n",
        "else:\n",
        "  grade = \"E\"\n",
        "\n",
        "print(f\"Nilai Anda {nilai}, maka grade Anda = {grade}\")"
      ],
      "metadata": {
        "colab": {
          "base_uri": "https://localhost:8080/"
        },
        "id": "dXFoXydmbWlb",
        "outputId": "591d4191-a147-4684-d4a8-fd7715d97239"
      },
      "execution_count": null,
      "outputs": [
        {
          "output_type": "stream",
          "name": "stdout",
          "text": [
            "Masukkan nilai akhir: 78\n",
            "Nilai Anda 78, maka grade Anda = B\n"
          ]
        }
      ]
    },
    {
      "cell_type": "markdown",
      "source": [
        "**Praktikum 04 - Nested If**"
      ],
      "metadata": {
        "id": "DQ9Xxwm-cD5Z"
      }
    },
    {
      "cell_type": "code",
      "source": [
        "ipk = float(input(\"Masukkan IPK: \"))\n",
        "sks = int (input(\"Masukkan jumlah SKS: \"))\n",
        "\n",
        "if ipk >= 3.0:\n",
        "  if sks >= 18:\n",
        "    print(\"Anda LAYAK mendaptakan beasiswa\")\n",
        "  else:\n",
        "    print(\"IPK memenuhi, tapi SKS kurang\")\n",
        "else:\n",
        "  print(\"Anda TIDAK layak mendapatkan beasiswa\")"
      ],
      "metadata": {
        "colab": {
          "base_uri": "https://localhost:8080/"
        },
        "id": "2yRW5PdtcIUo",
        "outputId": "87462726-b824-4ec8-a38d-27f97668dc6e"
      },
      "execution_count": null,
      "outputs": [
        {
          "output_type": "stream",
          "name": "stdout",
          "text": [
            "Masukkan IPK: 2.8\n",
            "Masukkan jumlah SKS: 20\n",
            "Anda TIDAK layak mendapatkan beasiswa\n"
          ]
        }
      ]
    },
    {
      "cell_type": "markdown",
      "source": [
        "**Praktikum 05 - Match Case**"
      ],
      "metadata": {
        "id": "MSO1ypZ3ct6-"
      }
    },
    {
      "cell_type": "code",
      "source": [
        "menu = int(input(\"Pilih menu (1-3): \"))\n",
        "\n",
        "match menu:\n",
        "  case 1:\n",
        "    print(\"Anda memilih Nasi Goreng\")\n",
        "  case 2:\n",
        "    print(\"Anda memilih Mie Ayam\")\n",
        "  case 3:\n",
        "    print(\"Anda memilih Soto Ayam\")\n",
        "  case _:\n",
        "    print(\"Menu tidak tersedia\")"
      ],
      "metadata": {
        "colab": {
          "base_uri": "https://localhost:8080/"
        },
        "id": "7atMW2Zmcx4F",
        "outputId": "50e63088-ef04-4702-f2c3-b4e5e51e6481"
      },
      "execution_count": null,
      "outputs": [
        {
          "output_type": "stream",
          "name": "stdout",
          "text": [
            "Pilih menu (1-3): 9\n",
            "Menu tidak tersedia\n"
          ]
        }
      ]
    },
    {
      "cell_type": "markdown",
      "source": [
        "**Praktikum 06 – Studi Kasus: Program Kasir**"
      ],
      "metadata": {
        "id": "HOq7myhldVs6"
      }
    },
    {
      "cell_type": "code",
      "source": [
        "barang = input(\"Masukkan nama barang: \")\n",
        "harga = float(input(\"Masukkan harga barang: \"))\n",
        "jumlah = int (input(\"Masukkan jumlah barang: \"))\n",
        "\n",
        "total = harga * jumlah\n",
        "\n",
        "# Aturan diskon\n",
        "if total >= 500000:\n",
        "  diskon = 0.2\n",
        "elif total >= 250000:\n",
        "  diskon = 0.1\n",
        "else:\n",
        "  diskon = 0\n",
        "\n",
        "bayar = total - (total * diskon)\n",
        "\n",
        "print(\"\\n===== Struk Belanja =====\")\n",
        "print(f\"Barang: {barang}\")\n",
        "print(f\"Jumlah: {jumlah}\")\n",
        "print(f\"Total: Rp {total}\")\n",
        "print(f\"Diskon: {diskon * 100}%\")\n",
        "print(f\"Bayar: Rp {bayar}\")"
      ],
      "metadata": {
        "colab": {
          "base_uri": "https://localhost:8080/"
        },
        "id": "TP-7k2j2dY9r",
        "outputId": "79759b97-4aa3-45df-bd02-5d92d2e62684"
      },
      "execution_count": null,
      "outputs": [
        {
          "output_type": "stream",
          "name": "stdout",
          "text": [
            "Masukkan nama barang: Pulpen\n",
            "Masukkan harga barang: 5000\n",
            "Masukkan jumlah barang: 10\n",
            "\n",
            "===== Struk Belanja =====\n",
            "Barang: Pulpen\n",
            "Jumlah: 10\n",
            "Total: Rp 50000.0\n",
            "Diskon: 0%\n",
            "Bayar: Rp 50000.0\n"
          ]
        }
      ]
    },
    {
      "cell_type": "markdown",
      "source": [
        "**PENUGASAN**"
      ],
      "metadata": {
        "id": "c0OsMd8WexSE"
      }
    },
    {
      "cell_type": "markdown",
      "source": [
        "**Cek bilangan positif/negatif/nol**"
      ],
      "metadata": {
        "id": "6v_GfUTre1Ke"
      }
    },
    {
      "cell_type": "code",
      "source": [
        "bil = int(input(\"Masukkan sebuah bilangan: \"))\n",
        "\n",
        "if bil > 0:\n",
        "    print(\"Bilangan positif\")\n",
        "elif bil < 0:\n",
        "    print(\"Bilangan negatif\")\n",
        "else:\n",
        "    print(\"Bilangan nol\")"
      ],
      "metadata": {
        "colab": {
          "base_uri": "https://localhost:8080/"
        },
        "id": "Wwl6qUs4e9Jy",
        "outputId": "5b1db264-1485-4b24-e459-4358d83c7901"
      },
      "execution_count": 13,
      "outputs": [
        {
          "output_type": "stream",
          "name": "stdout",
          "text": [
            "Masukkan sebuah bilangan: 76\n",
            "Bilangan positif\n"
          ]
        }
      ]
    },
    {
      "cell_type": "markdown",
      "source": [
        "**Menentukan Kategori Usia**"
      ],
      "metadata": {
        "id": "8fi4oJFXfBQM"
      }
    },
    {
      "cell_type": "code",
      "source": [
        "umur = int(input(\"Masukkan umur Anda: \"))\n",
        "\n",
        "if umur < 5:\n",
        "    kategori = \"Balita\"\n",
        "elif umur <= 11:\n",
        "    kategori = \"Anak-anak\"\n",
        "elif umur <= 17:\n",
        "    kategori = \"Remaja\"\n",
        "elif umur <= 59:\n",
        "    kategori = \"Dewasa\"\n",
        "else:\n",
        "    kategori = \"Lansia\"\n",
        "\n",
        "print(f\"Kategori usia Anda adalah: {kategori}\")"
      ],
      "metadata": {
        "colab": {
          "base_uri": "https://localhost:8080/"
        },
        "id": "vlhMCn7Ue_uH",
        "outputId": "e01ed5ab-940e-4b57-9ebd-87cfc970e086"
      },
      "execution_count": 12,
      "outputs": [
        {
          "output_type": "stream",
          "name": "stdout",
          "text": [
            "Masukkan umur Anda: 17\n",
            "Kategori usia Anda adalah: Remaja\n"
          ]
        }
      ]
    },
    {
      "cell_type": "markdown",
      "source": [
        "**Hitung Tarif Parkir**"
      ],
      "metadata": {
        "id": "HOk96JDIfLPb"
      }
    },
    {
      "cell_type": "code",
      "source": [
        "jam = int(input(\"Masukkan lama parkir (jam): \"))\n",
        "\n",
        "if jam <= 2:\n",
        "    tarif = 5000\n",
        "elif jam * 2000 + 5000 > 20000:\n",
        "    tarif = 20000\n",
        "else:\n",
        "    tarif = 5000 + (jam - 2) * 2000\n",
        "\n",
        "print(f\"Total tarif parkir: Rp {tarif}\")"
      ],
      "metadata": {
        "colab": {
          "base_uri": "https://localhost:8080/"
        },
        "id": "-bs7pJpvfH9y",
        "outputId": "ad3634ae-5197-4842-8cb1-5457ff9f2d6e"
      },
      "execution_count": 11,
      "outputs": [
        {
          "output_type": "stream",
          "name": "stdout",
          "text": [
            "Masukkan lama parkir (jam): 9\n",
            "Total tarif parkir: Rp 20000\n"
          ]
        }
      ]
    },
    {
      "cell_type": "markdown",
      "source": [
        "**Cek Login Sederhana**"
      ],
      "metadata": {
        "id": "5xSR5WHtfRVc"
      }
    },
    {
      "cell_type": "code",
      "source": [
        "username = input(\"Masukkan username: \")\n",
        "password = input(\"Masukkan password: \")\n",
        "\n",
        "if username == \"admin\" and password == \"1234\":\n",
        "    print(\"Login berhasil\")\n",
        "else:\n",
        "    print(\"Login gagal\")"
      ],
      "metadata": {
        "colab": {
          "base_uri": "https://localhost:8080/"
        },
        "id": "aPfZ49q7fOyH",
        "outputId": "4ac5c26d-554e-413e-9f56-c1d38bcb4de3"
      },
      "execution_count": 10,
      "outputs": [
        {
          "output_type": "stream",
          "name": "stdout",
          "text": [
            "Masukkan username: admin\n",
            "Masukkan password: 1234\n",
            "Login berhasil\n"
          ]
        }
      ]
    },
    {
      "cell_type": "markdown",
      "source": [
        "**One Linear If**"
      ],
      "metadata": {
        "id": "YKT1dazCfZBf"
      }
    },
    {
      "cell_type": "code",
      "source": [
        "bil = int(input(\"Masukkan sebuah bilangan: \"))\n",
        "print(\"Bilangan genap\" if bil % 2 == 0 else \"Bilangan ganjil\")"
      ],
      "metadata": {
        "colab": {
          "base_uri": "https://localhost:8080/"
        },
        "id": "xY3DFKOAfUtQ",
        "outputId": "5e741929-b746-4094-8d98-6f1dc47150ce"
      },
      "execution_count": 9,
      "outputs": [
        {
          "output_type": "stream",
          "name": "stdout",
          "text": [
            "Masukkan sebuah bilangan: 99\n",
            "Bilangan ganjil\n"
          ]
        }
      ]
    },
    {
      "cell_type": "markdown",
      "source": [
        "**Menu Restoran dengan Match-Case**"
      ],
      "metadata": {
        "id": "14HvLq0Hfe2y"
      }
    },
    {
      "cell_type": "code",
      "source": [
        "print(\"===== Menu Restoran =====\")\n",
        "print(\"1. Nasi Goreng\")\n",
        "print(\"2. Mie Ayam\")\n",
        "print(\"3. Soto Ayam\")\n",
        "\n",
        "pilihan = int(input(\"Masukkan pilihan Anda (1-3): \"))\n",
        "\n",
        "match pilihan:\n",
        "    case 1:\n",
        "        print(\"Menu yang Anda pilih: Nasi Goreng\")\n",
        "    case 2:\n",
        "        print(\"Menu yang Anda pilih: Mie Ayam\")\n",
        "    case 3:\n",
        "        print(\"Menu yang Anda pilih: Soto Ayam\")\n",
        "    case 7:\n",
        "        print(\"Menu tidak tersedia\")"
      ],
      "metadata": {
        "colab": {
          "base_uri": "https://localhost:8080/"
        },
        "id": "6iQesniyfcFc",
        "outputId": "e44221c3-a68c-4541-deac-037c331c7848"
      },
      "execution_count": 8,
      "outputs": [
        {
          "output_type": "stream",
          "name": "stdout",
          "text": [
            "===== Menu Restoran =====\n",
            "1. Nasi Goreng\n",
            "2. Mie Ayam\n",
            "3. Soto Ayam\n",
            "Masukkan pilihan Anda (1-3): 7\n",
            "Menu tidak tersedia\n"
          ]
        }
      ]
    },
    {
      "cell_type": "markdown",
      "source": [
        "**Program Penentuan Diskon**"
      ],
      "metadata": {
        "id": "Eaoz56K8frzH"
      }
    },
    {
      "cell_type": "code",
      "source": [
        "barang = input(\"Masukkan nama barang: \")\n",
        "harga = float(input(\"Masukkan harga barang: \"))\n",
        "jumlah = int(input(\"Masukkan jumlah barang: \"))\n",
        "\n",
        "total = harga * jumlah\n",
        "\n",
        "if total >= 500000:\n",
        "    diskon = 0.2\n",
        "elif total >= 250000:\n",
        "    diskon = 0.1\n",
        "else:\n",
        "    diskon = 0\n",
        "\n",
        "potongan = total * diskon\n",
        "bayar = total - potongan\n",
        "\n",
        "print(\"\\n===== Struk Belanja =====\")\n",
        "print(f\"Barang : {barang}\")\n",
        "print(f\"Jumlah : {jumlah}\")\n",
        "print(f\"Harga  : Rp {harga:.2f}\")\n",
        "print(f\"Total  : Rp {total:.2f}\")\n",
        "print(f\"Diskon : {diskon * 100}%\")\n",
        "print(f\"Bayar  : Rp {bayar:.2f}\")"
      ],
      "metadata": {
        "colab": {
          "base_uri": "https://localhost:8080/"
        },
        "id": "pZuPPMGwfomX",
        "outputId": "4d5de5e0-2a3e-4d9d-c67b-fbe062ee3906"
      },
      "execution_count": 1,
      "outputs": [
        {
          "output_type": "stream",
          "name": "stdout",
          "text": [
            "Masukkan nama barang: mobil\n",
            "Masukkan harga barang: 29000000000\n",
            "Masukkan jumlah barang: 1\n",
            "\n",
            "===== Struk Belanja =====\n",
            "Barang : mobil\n",
            "Jumlah : 1\n",
            "Harga  : Rp 29000000000.00\n",
            "Total  : Rp 29000000000.00\n",
            "Diskon : 20.0%\n",
            "Bayar  : Rp 23200000000.00\n"
          ]
        }
      ]
    }
  ]
}