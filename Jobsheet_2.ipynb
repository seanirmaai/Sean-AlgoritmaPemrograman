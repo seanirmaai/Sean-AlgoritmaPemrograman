{
  "nbformat": 4,
  "nbformat_minor": 0,
  "metadata": {
    "colab": {
      "provenance": [],
      "authorship_tag": "ABX9TyMccdhoO0HIcBX3NVVo/h23",
      "include_colab_link": true
    },
    "kernelspec": {
      "name": "python3",
      "display_name": "Python 3"
    },
    "language_info": {
      "name": "python"
    }
  },
  "cells": [
    {
      "cell_type": "markdown",
      "metadata": {
        "id": "view-in-github",
        "colab_type": "text"
      },
      "source": [
        "<a href=\"https://colab.research.google.com/github/seanirmaai/Sean-AlgoritmaPemrograman/blob/Penugasan-Bab-E/Jobsheet_2.ipynb\" target=\"_parent\"><img src=\"https://colab.research.google.com/assets/colab-badge.svg\" alt=\"Open In Colab\"/></a>"
      ]
    },
    {
      "cell_type": "markdown",
      "source": [
        "**Praktikum 01 - Pengenalan Variabel dan Tipe Data**"
      ],
      "metadata": {
        "id": "gUpCgL_C4d1g"
      }
    },
    {
      "cell_type": "code",
      "source": [
        "# Integer\n",
        "umur = 100\n",
        "print(\"Umur:\", umur, \"→\", type(umur))\n",
        "\n",
        "# Float\n",
        "tinggi = 170.5\n",
        "print(\"Tinggi:\", tinggi, \"→\", type(tinggi))\n",
        "\n",
        "# String\n",
        "nama = \"Sean\"\n",
        "print(\"Nama:\", nama, \"→\", type(nama))\n",
        "\n",
        "# Boolean\n",
        "is_mahasiswa = True\n",
        "print(\"Status Mahasiswa:\", is_mahasiswa, \"→\", type(is_mahasiswa))\n",
        "\n",
        "# List\n",
        "nilai = [80, 85, 90]\n",
        "print(\"Nilai:\", nilai, \"→\", type(nilai))\n",
        "\n",
        "# Tuple\n",
        "koordinat = (10,20)\n",
        "print(\"Koordinat:\", koordinat, \"→\", type(koordinat))\n",
        "\n",
        "# Dictionary\n",
        "mahasiswa = {\"nama\": \"Sean\", \"umur\": \"100\", \"prodi\": \"TRK\"}\n",
        "print(\"Data Mahasiswa:\", mahasiswa, \"→\", type(mahasiswa))\n",
        "\n",
        "# Set\n",
        "hobi = {\"membaca\", \"olahraga\", \"musik\"}\n",
        "print(\"Hobi:\", hobi, \"→\", type(hobi))"
      ],
      "metadata": {
        "colab": {
          "base_uri": "https://localhost:8080/"
        },
        "id": "CNt0r-yR5PGu",
        "outputId": "a70562db-e48d-470a-85e5-e7b9b693d9e1"
      },
      "execution_count": 5,
      "outputs": [
        {
          "output_type": "stream",
          "name": "stdout",
          "text": [
            "Umur: 100 → <class 'int'>\n",
            "Tinggi: 170.5 → <class 'float'>\n",
            "Nama: Sean → <class 'str'>\n",
            "Status Mahasiswa: True → <class 'bool'>\n",
            "Nilai: [80, 85, 90] → <class 'list'>\n",
            "Koordinat: (10, 20) → <class 'tuple'>\n",
            "Data Mahasiswa: {'nama': 'Sean', 'umur': '100', 'prodi': 'TRK'} → <class 'dict'>\n",
            "Hobi: {'olahraga', 'membaca', 'musik'} → <class 'set'>\n"
          ]
        }
      ]
    },
    {
      "cell_type": "code",
      "source": [
        "# Float\n",
        "tinggi = 170.5\n",
        "print(\"Tinggi:\", tinggi, \"→\", type(tinggi))"
      ],
      "metadata": {
        "colab": {
          "base_uri": "https://localhost:8080/"
        },
        "id": "dmro71lG6GDa",
        "outputId": "09f99c4a-07b0-4f46-e095-df1b590c120e"
      },
      "execution_count": null,
      "outputs": [
        {
          "output_type": "stream",
          "name": "stdout",
          "text": [
            "Tinggi: 170.5 → <class 'float'>\n"
          ]
        }
      ]
    },
    {
      "cell_type": "code",
      "source": [
        "# String\n",
        "nama = \"Sean\"\n",
        "print(\"Nama:\", nama, \"→\", type(nama))"
      ],
      "metadata": {
        "colab": {
          "base_uri": "https://localhost:8080/"
        },
        "id": "Zq7Hp-dU6PlG",
        "outputId": "41b2e129-3912-4f09-8b74-4ba644fdf814"
      },
      "execution_count": 2,
      "outputs": [
        {
          "output_type": "stream",
          "name": "stdout",
          "text": [
            "Nama: Sean → <class 'str'>\n"
          ]
        }
      ]
    },
    {
      "cell_type": "code",
      "source": [
        "# Boolean\n",
        "is_mahasiswa = True\n",
        "print(\"Status Mahasiswa:\", is_mahasiswa, \"→\", type(is_mahasiswa))"
      ],
      "metadata": {
        "colab": {
          "base_uri": "https://localhost:8080/"
        },
        "id": "52kcoD3G6msC",
        "outputId": "33123944-f357-4a5e-f8f4-2aa894c89c8f"
      },
      "execution_count": null,
      "outputs": [
        {
          "output_type": "stream",
          "name": "stdout",
          "text": [
            "Status Mahasiswa: True → <class 'bool'>\n"
          ]
        }
      ]
    },
    {
      "cell_type": "code",
      "source": [
        "# List\n",
        "nilai = [80, 85, 90]\n",
        "print(\"Nilai:\", nilai, \"→\", type(nilai))"
      ],
      "metadata": {
        "colab": {
          "base_uri": "https://localhost:8080/"
        },
        "id": "u82X2Vbh7JrC",
        "outputId": "ee8f6d2b-a662-4747-8146-22f5e47547a7"
      },
      "execution_count": null,
      "outputs": [
        {
          "output_type": "stream",
          "name": "stdout",
          "text": [
            "Nilai: [80, 85, 90] → <class 'list'>\n"
          ]
        }
      ]
    },
    {
      "cell_type": "code",
      "source": [
        "# Tuple\n",
        "koordinat = (10,20)\n",
        "print(\"Koordinat:\", koordinat, \"→\", type(koordinat))"
      ],
      "metadata": {
        "colab": {
          "base_uri": "https://localhost:8080/"
        },
        "id": "XLC-w2NL7f48",
        "outputId": "10ed061c-b5fd-4b40-c799-49fb1e5ec6da"
      },
      "execution_count": null,
      "outputs": [
        {
          "output_type": "stream",
          "name": "stdout",
          "text": [
            "Koordinat: (10, 20) → <class 'tuple'>\n"
          ]
        }
      ]
    },
    {
      "cell_type": "code",
      "source": [
        "# Dictionary\n",
        "mahasiswa = {\"nama\": \"Sean\", \"umur\": \"15\", \"prodi\": \"TRK\"}\n",
        "print(\"Data Mahasiswa:\", mahasiswa, \"→\", type(mahasiswa))"
      ],
      "metadata": {
        "colab": {
          "base_uri": "https://localhost:8080/"
        },
        "id": "Xa4syyGR7vC3",
        "outputId": "37cc9cab-1c01-468b-849f-bcefe07b793c"
      },
      "execution_count": 1,
      "outputs": [
        {
          "output_type": "stream",
          "name": "stdout",
          "text": [
            "Data Mahasiswa: {'nama': 'Sean', 'umur': '15', 'prodi': 'TRK'} → <class 'dict'>\n"
          ]
        }
      ]
    },
    {
      "cell_type": "code",
      "source": [
        "# Set\n",
        "hobi = {\"membaca\", \"olahraga\", \"musik\"}\n",
        "print(\"Hobi:\", hobi, \"→\", type(hobi))"
      ],
      "metadata": {
        "colab": {
          "base_uri": "https://localhost:8080/"
        },
        "id": "lc6ixKKj8H9L",
        "outputId": "63837bcf-1c35-4254-af06-815aeb05b2d0"
      },
      "execution_count": null,
      "outputs": [
        {
          "output_type": "stream",
          "name": "stdout",
          "text": [
            "Hobi: {'olahraga', 'membaca', 'musik'} → <class 'set'>\n"
          ]
        }
      ]
    },
    {
      "cell_type": "markdown",
      "source": [
        "**Praktikum 02 – Input dan Output Dasar**"
      ],
      "metadata": {
        "id": "qqeZDg9q9hGs"
      }
    },
    {
      "cell_type": "code",
      "source": [
        "# Input Stirng\n",
        "nama = input(\"Masukkan nama anda: \")\n",
        "\n",
        "# Input integer\n",
        "umur = int(input(\"Masukkan umur anda: \"))\n",
        "\n",
        "# Input float\n",
        "tinggi = float(input(\"Masukkan tinggi badan (cm): \"))\n",
        "\n",
        "# Output standar\n",
        "print(\"Halo,\", nama, \"umur anda:\", umur, \"tahun, tinggi:\", tinggi, \"cm\" )\n",
        "\n",
        "# Output dengan format()\n",
        "print(\"Halo, {0}, umur anda {1} tahun, tinggi {2} cm\".format(nama, umur, tinggi))\n",
        "\n",
        "# Output dengan f-string\n",
        "print(f\"Halo {nama}, umur anda {umur} tahun, tinggi {tinggi} cm\")"
      ],
      "metadata": {
        "colab": {
          "base_uri": "https://localhost:8080/"
        },
        "id": "amM-3H4D9maa",
        "outputId": "effe82c7-25df-4144-eab0-93d738b154a9"
      },
      "execution_count": null,
      "outputs": [
        {
          "output_type": "stream",
          "name": "stdout",
          "text": [
            "Masukkan nama anda: bubi\n",
            "Masukkan umur anda: 16\n",
            "Masukkan tinggi badan (cm): 180\n",
            "Halo, bubi umur anda: 16 tahun, tinggi: 180.0 cm\n",
            "Halo, bubi, umur anda 16 tahun, tinggi 180.0 cm\n",
            "Halo bubi, umur anda 16 tahun, tinggi 180.0 cm\n"
          ]
        }
      ]
    },
    {
      "cell_type": "code",
      "source": [
        "# Input integer\n",
        "umur = int(input(\"Masukkan umur anda: \"))"
      ],
      "metadata": {
        "colab": {
          "base_uri": "https://localhost:8080/"
        },
        "id": "e8YMxmEJ9u_T",
        "outputId": "a0fda183-c588-443e-923a-e96e86880587"
      },
      "execution_count": null,
      "outputs": [
        {
          "name": "stdout",
          "output_type": "stream",
          "text": [
            "Masukkan umur anda: 29\n"
          ]
        }
      ]
    },
    {
      "cell_type": "code",
      "source": [
        "# Input float\n",
        "tinggi = float(input(\"Masukkan tinggi badan (cm): \"))"
      ],
      "metadata": {
        "colab": {
          "base_uri": "https://localhost:8080/"
        },
        "id": "Kx7tKqYq95Xw",
        "outputId": "a3e864b0-39d8-48b6-e5b8-2b4ea2689e52"
      },
      "execution_count": null,
      "outputs": [
        {
          "name": "stdout",
          "output_type": "stream",
          "text": [
            "Masukkan tinggi badan (cm): 180\n"
          ]
        }
      ]
    },
    {
      "cell_type": "code",
      "source": [
        "# Output standar\n",
        "print(\"Halo,\", nama, \"umur anda:\", umur, \"tahun, tinggi:\", tinggi, \"cm\" )"
      ],
      "metadata": {
        "colab": {
          "base_uri": "https://localhost:8080/"
        },
        "id": "Ed9f_7_U-MXF",
        "outputId": "e944db0f-1fd9-4897-8a19-88a9269e4074"
      },
      "execution_count": null,
      "outputs": [
        {
          "output_type": "stream",
          "name": "stdout",
          "text": [
            "Halo, aku se umur anda: 29 tahun, tinggi: 180.0 cm\n"
          ]
        }
      ]
    },
    {
      "cell_type": "code",
      "source": [
        "# Output dengan format()\n",
        "print(\"Halo, {0}, umur anda {1} tahun, tinggi {2} cm\".format(nama, umur, tinggi))"
      ],
      "metadata": {
        "colab": {
          "base_uri": "https://localhost:8080/"
        },
        "id": "fSyJyX19-vWf",
        "outputId": "09b8dad7-b75c-49d8-aab5-d107b836b6bc"
      },
      "execution_count": null,
      "outputs": [
        {
          "output_type": "stream",
          "name": "stdout",
          "text": [
            "Halo, aku se, umur anda 29 tahun, tinggi 180.0 cm\n"
          ]
        }
      ]
    },
    {
      "cell_type": "code",
      "source": [
        "# Output dengan f-string\n",
        "print(f\"Halo {nama}, umur anda {umur} tahun, tinggi {tinggi} cm\")"
      ],
      "metadata": {
        "colab": {
          "base_uri": "https://localhost:8080/"
        },
        "id": "O-a4_5oK_KM0",
        "outputId": "6372aa8f-a169-4fb9-8a12-1cce70719f40"
      },
      "execution_count": null,
      "outputs": [
        {
          "output_type": "stream",
          "name": "stdout",
          "text": [
            "Halo aku se, umur anda 29 tahun, tinggi 180.0 cm\n"
          ]
        }
      ]
    },
    {
      "cell_type": "markdown",
      "source": [
        "**Praktikum 03 - Operator Aritmatika**"
      ],
      "metadata": {
        "id": "r74vQMSZUYrP"
      }
    },
    {
      "cell_type": "code",
      "source": [
        "a = 15\n",
        "b = 4\n",
        "\n",
        "print(\"a + b =\", a + b)\n",
        "print(\"a - b =\", a - b)\n",
        "print(\"a * b =\", a * b)\n",
        "print(\"a / b =\", a / b)\n",
        "print(\"a // b =\", a // b)\n",
        "print(\"a % b =\", a % b)\n",
        "print(\"a ** b =\", a ** b)"
      ],
      "metadata": {
        "colab": {
          "base_uri": "https://localhost:8080/"
        },
        "id": "MxPS49qvUhGB",
        "outputId": "37c0d76a-cd98-4637-8387-a22efe3d77e4"
      },
      "execution_count": null,
      "outputs": [
        {
          "output_type": "stream",
          "name": "stdout",
          "text": [
            "a + b = 19\n",
            "a - b = 11\n",
            "a * b = 60\n",
            "a / b = 3.75\n",
            "a // b = 3\n",
            "a % b = 3\n",
            "a ** b = 50625\n"
          ]
        }
      ]
    },
    {
      "cell_type": "markdown",
      "source": [
        "**Praktikum 04 - Operator Relasional**"
      ],
      "metadata": {
        "id": "PjuTXUYfVDHU"
      }
    },
    {
      "cell_type": "code",
      "source": [
        "x = 10\n",
        "y = 20\n",
        "\n",
        "print(\"x == y :\", x == y)\n",
        "print(\"x != y :\", x != y)\n",
        "print(\"x < y :\", x < y)\n",
        "print(\"x > y :\", x > y)\n",
        "print(\"x <= y :\", x <= y)\n",
        "print(\"x >= y :\", x >= y)\n",
        "\n",
        "# Dalam kehidupan nyata, operator relasional bisa dipakai untuk mengecek apakah nilai ujian > 60, atau apakah kehadiran mahasiswa memenuhi batas minimal"
      ],
      "metadata": {
        "colab": {
          "base_uri": "https://localhost:8080/"
        },
        "id": "5BDqcOv7VLBw",
        "outputId": "0cb79d2b-24fd-437a-8292-6e23000fd981"
      },
      "execution_count": null,
      "outputs": [
        {
          "output_type": "stream",
          "name": "stdout",
          "text": [
            "x == y : False\n",
            "x != y : True\n",
            "x < y : True\n",
            "x > y : False\n",
            "x <= y : True\n",
            "x >= y : False\n"
          ]
        }
      ]
    },
    {
      "cell_type": "markdown",
      "source": [
        "**Praktikum 05 - Operator Logika dengan Studi Kasus Nyata**"
      ],
      "metadata": {
        "id": "Q-iRw1ZPWZ5q"
      }
    },
    {
      "cell_type": "code",
      "source": [
        "# Operator logika dasar\n",
        "a = True\n",
        "b = False\n",
        "\n",
        "print(\"a and b =\", a and b)\n",
        "print(\"a or b =\", a or b)\n",
        "print(\"not a =\", not a)\n",
        "\n",
        "# Studi kasus nyata: kelulusan\n",
        "nilai = int(input(\"Masukkan nilai ujian: \"))\n",
        "hadir = int(input(\"Masukkan jumlah kehadiran: \"))\n",
        "\n",
        "lulus_nilai = nilai >= 60\n",
        "lulus_hadir = hadir >= 12 # dari 16 pertemuan\n",
        "\n",
        "if lulus_nilai and lulus_hadir:\n",
        "  print(\"Status: LULUS\")\n",
        "else:\n",
        "  print(\"Status: TIDAK LULUS\")"
      ],
      "metadata": {
        "colab": {
          "base_uri": "https://localhost:8080/"
        },
        "id": "t7gIW917Whl_",
        "outputId": "e7d06bc3-fb22-435c-b99c-ee537c828696"
      },
      "execution_count": null,
      "outputs": [
        {
          "output_type": "stream",
          "name": "stdout",
          "text": [
            "a and b = False\n",
            "a or b = True\n",
            "not a = False\n",
            "Masukkan nilai ujian: 90\n",
            "Masukkan jumlah kehadiran: 9\n",
            "Status: TIDAK LULUS\n"
          ]
        }
      ]
    },
    {
      "cell_type": "markdown",
      "source": [
        "**Praktikum 06 - Program Kasir Sederhana**"
      ],
      "metadata": {
        "id": "seVUjtOvPKNB"
      }
    },
    {
      "cell_type": "code",
      "source": [
        "barang = input(\"Masukkan nama barang: \")\n",
        "harga = float(input(\"Masukkan harga barang: \"))\n",
        "jumlah = int (input(\"Masukkan jumlah barang: \"))\n",
        "\n",
        "total = harga * jumlah\n",
        "\n",
        "# Aturan diskon\n",
        "if total >= 500000:\n",
        "  diskon = 0.2\n",
        "elif total >= 250000:\n",
        "  diskon = 0.1\n",
        "else:\n",
        "  diskon = 0\n",
        "\n",
        "potongan = total * diskon\n",
        "bayar = total - potongan\n",
        "\n",
        "print(\"\\n===== Struk Belanja =====\")\n",
        "print(f\"Barang: {barang}\")\n",
        "print(f\"Jumlah: {jumlah}\")\n",
        "print(f\"Total: Rp {total}\")\n",
        "print(f\"Diskon: {diskon * 100}%\")\n",
        "print(f\"Bayar: Rp {bayar}\")"
      ],
      "metadata": {
        "colab": {
          "base_uri": "https://localhost:8080/"
        },
        "id": "Fc6_ud72PRVk",
        "outputId": "62f6fb3d-04d9-4583-9d3b-0571a4d3f7cb"
      },
      "execution_count": null,
      "outputs": [
        {
          "output_type": "stream",
          "name": "stdout",
          "text": [
            "Masukkan nama barang: ubi\n",
            "Masukkan harga barang: 120000\n",
            "Masukkan jumlah barang: 9\n",
            "\n",
            "===== Struk Belanja =====\n",
            "Barang: ubi\n",
            "Jumlah: 9\n",
            "Total: Rp 1080000.0\n",
            "Diskon: 20.0%\n",
            "Bayar: Rp 864000.0\n"
          ]
        }
      ]
    },
    {
      "cell_type": "markdown",
      "source": [
        "**PENUGASAN**"
      ],
      "metadata": {
        "id": "seXOIc8jSzz8"
      }
    },
    {
      "cell_type": "markdown",
      "source": [
        "**Identitas Mahasiswa**"
      ],
      "metadata": {
        "id": "N306MQC5TGSC"
      }
    },
    {
      "cell_type": "code",
      "source": [
        "nama = input(\"Masukkan nama Anda: \")\n",
        "umur = int(input(\"Masukkan umur Anda: \"))\n",
        "tinggi = float(input(\"Masukkan tinggi badan (cm): \"))\n",
        "status_aktif = bool(int(input(\"Apakah Anda mahasiswa aktif? (1 = Ya, 0 = Tidak): \")))\n",
        "\n",
        "print(\"\\n===== Data Mahasiswa =====\")\n",
        "print(f\"Nama           : {nama}\")\n",
        "print(f\"Umur           : {umur} tahun\")\n",
        "print(f\"Tinggi Badan   : {tinggi} cm\")\n",
        "print(f\"Status Aktif   : {status_aktif}\")"
      ],
      "metadata": {
        "colab": {
          "base_uri": "https://localhost:8080/"
        },
        "id": "3zF7lj_bS3Ue",
        "outputId": "3a41f814-ffbc-4f06-ec28-1e76e87cfe75"
      },
      "execution_count": 6,
      "outputs": [
        {
          "output_type": "stream",
          "name": "stdout",
          "text": [
            "Masukkan nama Anda: sean\n",
            "Masukkan umur Anda: 16\n",
            "Masukkan tinggi badan (cm): 169\n",
            "Apakah Anda mahasiswa aktif? (1 = Ya, 0 = Tidak): 1\n",
            "\n",
            "===== Data Mahasiswa =====\n",
            "Nama           : sean\n",
            "Umur           : 16 tahun\n",
            "Tinggi Badan   : 169.0 cm\n",
            "Status Aktif   : True\n"
          ]
        }
      ]
    },
    {
      "cell_type": "markdown",
      "source": [
        "**Operasi Aritmatika**"
      ],
      "metadata": {
        "id": "rnstMSvQTNrl"
      }
    },
    {
      "cell_type": "code",
      "source": [
        "bil1 = int(input(\"Masukkan bilangan pertama: \"))\n",
        "bil2 = int(input(\"Masukkan bilangan kedua: \"))\n",
        "\n",
        "print(\"\\n===== Hasil Operasi Aritmatika =====\")\n",
        "print(f\"Penjumlahan (+)  : {bil1 + bil2}\")\n",
        "print(f\"Pengurangan (-)  : {bil1 - bil2}\")\n",
        "print(f\"Perkalian (×)    : {bil1 * bil2}\")\n",
        "print(f\"Pembagian (/)    : {bil1 / bil2}\")\n",
        "print(f\"Sisa Bagi (%)    : {bil1 % bil2}\")\n",
        "print(f\"Pangkat (**)     : {bil1 ** bil2}\")"
      ],
      "metadata": {
        "colab": {
          "base_uri": "https://localhost:8080/"
        },
        "id": "aXA35-lKTQ0q",
        "outputId": "271ca218-3038-45e7-cfc8-d1fdd1d78347"
      },
      "execution_count": null,
      "outputs": [
        {
          "output_type": "stream",
          "name": "stdout",
          "text": [
            "Masukkan bilangan pertama: 9\n",
            "Masukkan bilangan kedua: 12\n",
            "\n",
            "===== Hasil Operasi Aritmatika =====\n",
            "Penjumlahan (+)  : 21\n",
            "Pengurangan (-)  : -3\n",
            "Perkalian (×)    : 108\n",
            "Pembagian (/)    : 0.75\n",
            "Sisa Bagi (%)    : 9\n",
            "Pangkat (**)     : 282429536481\n"
          ]
        }
      ]
    },
    {
      "cell_type": "markdown",
      "source": [
        "**Konversi Nilai**"
      ],
      "metadata": {
        "id": "Y2-ftj0RTX5m"
      }
    },
    {
      "cell_type": "code",
      "source": [
        "nilai = float(input(\"Masukkan nilai desimal Anda: \"))\n",
        "\n",
        "print(\"\\n===== Hasil Konversi Nilai =====\")\n",
        "print(f\"Nilai dalam bentuk integer : {int(nilai)}\")\n",
        "print(f\"Nilai dalam bentuk string  : {str(nilai)}\")\n",
        "print(f\"Nilai dibulatkan 2 digit   : {round(nilai, 2)}\")"
      ],
      "metadata": {
        "colab": {
          "base_uri": "https://localhost:8080/"
        },
        "id": "QkQj-N0kTcsF",
        "outputId": "39461e4a-8493-468d-a83a-f6246dfb3c0c"
      },
      "execution_count": 4,
      "outputs": [
        {
          "output_type": "stream",
          "name": "stdout",
          "text": [
            "Masukkan nilai desimal Anda: 9.4\n",
            "\n",
            "===== Hasil Konversi Nilai =====\n",
            "Nilai dalam bentuk integer : 9\n",
            "Nilai dalam bentuk string  : 9.4\n",
            "Nilai dibulatkan 2 digit   : 9.4\n"
          ]
        }
      ]
    },
    {
      "cell_type": "markdown",
      "source": [
        "**Operator Relasional**"
      ],
      "metadata": {
        "id": "Sm6SFFJXTjb1"
      }
    },
    {
      "cell_type": "code",
      "source": [
        "bil1 = int(input(\"Masukkan bilangan pertama: \"))\n",
        "bil2 = int(input(\"Masukkan bilangan kedua: \"))\n",
        "\n",
        "print(\"\\n===== Hasil Perbandingan =====\")\n",
        "print(f\"{bil1} == {bil2} : {bil1 == bil2}\")\n",
        "print(f\"{bil1} != {bil2} : {bil1 != bil2}\")\n",
        "print(f\"{bil1} > {bil2}  : {bil1 > bil2}\")\n",
        "print(f\"{bil1} < {bil2}  : {bil1 < bil2}\")\n",
        "print(f\"{bil1} >= {bil2} : {bil1 >= bil2}\")\n",
        "print(f\"{bil1} <= {bil2} : {bil1 <= bil2}\")"
      ],
      "metadata": {
        "colab": {
          "base_uri": "https://localhost:8080/"
        },
        "id": "MrbEQJ55TnHq",
        "outputId": "3e70769e-c211-427e-baab-a03ea926e676"
      },
      "execution_count": null,
      "outputs": [
        {
          "output_type": "stream",
          "name": "stdout",
          "text": [
            "Masukkan bilangan pertama: 90\n",
            "Masukkan bilangan kedua: 76\n",
            "\n",
            "===== Hasil Perbandingan =====\n",
            "90 == 76 : False\n",
            "90 != 76 : True\n",
            "90 > 76  : True\n",
            "90 < 76  : False\n",
            "90 >= 76 : True\n",
            "90 <= 76 : False\n"
          ]
        }
      ]
    }
  ]
}