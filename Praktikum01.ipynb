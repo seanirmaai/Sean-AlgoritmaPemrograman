{
  "nbformat": 4,
  "nbformat_minor": 0,
  "metadata": {
    "colab": {
      "provenance": [],
      "authorship_tag": "ABX9TyPsD8ldElgn/o2WpBH6EPeh",
      "include_colab_link": true
    },
    "kernelspec": {
      "name": "python3",
      "display_name": "Python 3"
    },
    "language_info": {
      "name": "python"
    }
  },
  "cells": [
    {
      "cell_type": "markdown",
      "metadata": {
        "id": "view-in-github",
        "colab_type": "text"
      },
      "source": [
        "<a href=\"https://colab.research.google.com/github/seanirmaai/Sean-AlgoritmaPemrograman/blob/Penugasan-Bab-E/Praktikum01.ipynb\" target=\"_parent\"><img src=\"https://colab.research.google.com/assets/colab-badge.svg\" alt=\"Open In Colab\"/></a>"
      ]
    },
    {
      "cell_type": "markdown",
      "source": [
        "# Menghitung Luas Persegi Panjang"
      ],
      "metadata": {
        "id": "I2M56atT2WIx"
      }
    },
    {
      "cell_type": "code",
      "execution_count": null,
      "metadata": {
        "colab": {
          "base_uri": "https://localhost:8080/"
        },
        "id": "anMhnqK-2NvS",
        "outputId": "6f6d218b-e414-4be2-ec41-80bfde7af3f4"
      },
      "outputs": [
        {
          "output_type": "stream",
          "name": "stdout",
          "text": [
            "Masukkan panjang: 21\n",
            "Masukkan lebar: 7\n",
            "Luas persegi panjang = 147\n"
          ]
        }
      ],
      "source": [
        "p = int(input (\"Masukkan panjang: \"))\n",
        "l = int(input (\"Masukkan lebar: \"))\n",
        "luas = p * l\n",
        "print(\"Luas persegi panjang =\", luas)"
      ]
    },
    {
      "cell_type": "markdown",
      "source": [
        "# Menghitung Luas Segitiga"
      ],
      "metadata": {
        "id": "p3WL_e9p9Liw"
      }
    },
    {
      "cell_type": "code",
      "source": [
        "import math\n",
        "a = float(input(\"Masukkan sisi A: \"))\n",
        "b = float(input(\"Masukkan sisi B: \"))\n",
        "c = float(input(\"Masukkan sisi C: \"))\n",
        "s = (a+b+c) / 2\n",
        "luas = math.sqrt(s * (s - a) * (s - b) * (s -c ))\n",
        "print(\"Luas segitiga =\", luas)"
      ],
      "metadata": {
        "colab": {
          "base_uri": "https://localhost:8080/"
        },
        "id": "xA6jvUuo9eAz",
        "outputId": "96c28edb-c047-4ee5-d6e6-2ef56ab27a12"
      },
      "execution_count": null,
      "outputs": [
        {
          "output_type": "stream",
          "name": "stdout",
          "text": [
            "Masukkan sisi A: 11\n",
            "Masukkan sisi B: 19\n",
            "Masukkan sisi C: 20\n",
            "Luas segitiga = 102.46950765959599\n"
          ]
        }
      ]
    },
    {
      "cell_type": "markdown",
      "source": [
        "# Konversi Suhu Celcius ke Fahrenheit"
      ],
      "metadata": {
        "id": "6DQq55Ee95zZ"
      }
    },
    {
      "cell_type": "code",
      "source": [
        "c = float(input(\"Masukkan suhu (°C): \"))\n",
        "f = (c * 9/5) + 32\n",
        "print(\"Hasil konversi =\", f, \"°F\")"
      ],
      "metadata": {
        "colab": {
          "base_uri": "https://localhost:8080/"
        },
        "id": "AQmfstX2-BTT",
        "outputId": "b16fd2fc-a985-46bb-dcfb-9e35b9244942"
      },
      "execution_count": null,
      "outputs": [
        {
          "output_type": "stream",
          "name": "stdout",
          "text": [
            "Masukkan suhu (°C): 16\n",
            "Hasil konversi = 60.8 °F\n"
          ]
        }
      ]
    },
    {
      "cell_type": "markdown",
      "source": [
        "# Menghitung Umur Berdasarkan Tahun Lahir"
      ],
      "metadata": {
        "id": "Z0LAWHpj-WE-"
      }
    },
    {
      "cell_type": "code",
      "source": [
        "tahun_lahir = int(input(\"Masukkan tahun lahir: \"))\n",
        "tahun_sekarang = 2025\n",
        "umur = tahun_sekarang - tahun_lahir\n",
        "print(\"Umur anda =\", umur, \"tahun\")"
      ],
      "metadata": {
        "colab": {
          "base_uri": "https://localhost:8080/"
        },
        "id": "pB_GO7c4-ca4",
        "outputId": "fd1a958a-e675-419d-9566-12cab1e4df9d"
      },
      "execution_count": null,
      "outputs": [
        {
          "output_type": "stream",
          "name": "stdout",
          "text": [
            "Masukkan tahun lahir: 2000\n",
            "Umur anda = 25 tahun\n"
          ]
        }
      ]
    },
    {
      "cell_type": "markdown",
      "source": [
        "# Menghitung Luas Lingkaran"
      ],
      "metadata": {
        "id": "DQ8NHo8Y-9DQ"
      }
    },
    {
      "cell_type": "code",
      "source": [
        "import math\n",
        "r = float(input(\"Masukkan jari-jari lingkaran: \"))\n",
        "luas = math.pi * r * r\n",
        "print(\"Luas lingkaran =\", luas)"
      ],
      "metadata": {
        "colab": {
          "base_uri": "https://localhost:8080/"
        },
        "id": "41TCkgeu-_Fp",
        "outputId": "ff76fca6-fe45-459a-bb4c-45686e168e37"
      },
      "execution_count": null,
      "outputs": [
        {
          "output_type": "stream",
          "name": "stdout",
          "text": [
            "Masukkan jari-jari lingkaran: 21\n",
            "Luas lingkaran = 1385.442360233099\n"
          ]
        }
      ]
    },
    {
      "cell_type": "markdown",
      "source": [
        "# Menjumlahkan Tiga Bilangan"
      ],
      "metadata": {
        "id": "NoModdp4_Q4N"
      }
    },
    {
      "cell_type": "code",
      "source": [
        "a = int(input(\"Masukkan bilangan pertama: \"))\n",
        "b = int(input(\"Masukkan bilangan kedua: \"))\n",
        "c = int(input(\"Masukkan bilangan ketiga: \"))\n",
        "jumlah = a + b + c\n",
        "print(\"Jumlah =\", jumlah)"
      ],
      "metadata": {
        "colab": {
          "base_uri": "https://localhost:8080/"
        },
        "id": "c3Jgl34n_a50",
        "outputId": "b95737aa-4b9f-41ef-dd3e-273564369f2e"
      },
      "execution_count": null,
      "outputs": [
        {
          "output_type": "stream",
          "name": "stdout",
          "text": [
            "Masukkan bilangan pertama: 11\n",
            "Masukkan bilangan kedua: 21\n",
            "Masukkan bilangan ketiga: 31\n",
            "Jumlah = 63\n"
          ]
        }
      ]
    },
    {
      "cell_type": "markdown",
      "source": [
        "# Menghitung Volume Balok"
      ],
      "metadata": {
        "id": "D0CVx4CaKBaF"
      }
    },
    {
      "cell_type": "code",
      "source": [
        "p = float(input(\"Masukkan panjang balok: \"))\n",
        "l = float(input(\"Masukkan lebar balok: \"))\n",
        "t = float(input(\"Masukkan tinggi balok: \"))\n",
        "\n",
        "V = p * l * t\n",
        "print(\"Volume balok =\", V)"
      ],
      "metadata": {
        "colab": {
          "base_uri": "https://localhost:8080/"
        },
        "id": "5tkx7XGIL8Ie",
        "outputId": "fd14a358-13f7-4c4f-9cdc-b9195922ffa6"
      },
      "execution_count": 1,
      "outputs": [
        {
          "output_type": "stream",
          "name": "stdout",
          "text": [
            "Masukkan panjang balok: 16\n",
            "Masukkan lebar balok: 26\n",
            "Masukkan tinggi balok: 12\n",
            "Volume balok = 4992.0\n"
          ]
        }
      ]
    },
    {
      "cell_type": "markdown",
      "source": [
        "# Konversi Waktu (Detik ke Jam:Menit:Detik)"
      ],
      "metadata": {
        "id": "aWcZaa-7MdT_"
      }
    },
    {
      "cell_type": "code",
      "source": [
        "total_detik = int(input(\"Masukkan jumlah detik: \"))\n",
        "\n",
        "jam = total_detik // 3600\n",
        "sisa = total_detik % 3600\n",
        "menit = sisa // 60\n",
        "detik = sisa % 60\n",
        "\n",
        "print(f\"{jam} jam, {menit} menit, {detik} detik\")"
      ],
      "metadata": {
        "colab": {
          "base_uri": "https://localhost:8080/"
        },
        "id": "7N1jRfqeM2H8",
        "outputId": "689013e6-8807-4b7b-f383-b17201e68009"
      },
      "execution_count": 2,
      "outputs": [
        {
          "output_type": "stream",
          "name": "stdout",
          "text": [
            "Masukkan jumlah detik: 100\n",
            "0 jam, 1 menit, 40 detik\n"
          ]
        }
      ]
    },
    {
      "cell_type": "markdown",
      "source": [
        "# Rata rata Nilai Tiga Mata Kuliah"
      ],
      "metadata": {
        "id": "bCVuf4yRND9l"
      }
    },
    {
      "cell_type": "code",
      "source": [
        "n1 = float(input(\"Masukkan nilai mata kuliah 1: \"))\n",
        "n2 = float(input(\"Masukkan nilai mata kuliah 2: \"))\n",
        "n3 = float(input(\"Masukkan nilai mata kuliah 3: \"))\n",
        "\n",
        "rata = (n1 + n2 + n3) / 3\n",
        "print(\"Rata-rata nilai =\", rata)\n",
        "\n",
        "if rata >= 60:\n",
        "    print(\"Lulus\")\n",
        "else:\n",
        "    print(\"Tidak Lulus\")"
      ],
      "metadata": {
        "colab": {
          "base_uri": "https://localhost:8080/"
        },
        "id": "g40czIbTNIFh",
        "outputId": "316c1f7e-5cd0-434d-941c-64b6a99902dc"
      },
      "execution_count": 3,
      "outputs": [
        {
          "output_type": "stream",
          "name": "stdout",
          "text": [
            "Masukkan nilai mata kuliah 1: 98\n",
            "Masukkan nilai mata kuliah 2: 95\n",
            "Masukkan nilai mata kuliah 3: 97\n",
            "Rata-rata nilai = 96.66666666666667\n",
            "Lulus\n"
          ]
        }
      ]
    },
    {
      "cell_type": "markdown",
      "source": [
        "# Menghitung Diskon Belanja"
      ],
      "metadata": {
        "id": "4zRY0kMVNW3_"
      }
    },
    {
      "cell_type": "code",
      "source": [
        "total = float(input(\"Masukkan total belanja: Rp \"))\n",
        "\n",
        "if total >= 500000:\n",
        "    bayar = total - (0.2 * total)\n",
        "elif total >= 250000:\n",
        "    bayar = total - (0.1 * total)\n",
        "else:\n",
        "    bayar = total\n",
        "\n",
        "print(\"Total bayar setelah diskon: Rp\", bayar)"
      ],
      "metadata": {
        "colab": {
          "base_uri": "https://localhost:8080/"
        },
        "id": "7uJhdmqCNqek",
        "outputId": "1c8ca465-85ac-4c10-edcc-79aa73dbcaf7"
      },
      "execution_count": 12,
      "outputs": [
        {
          "output_type": "stream",
          "name": "stdout",
          "text": [
            "Masukkan total belanja: Rp 900000\n",
            "Total bayar setelah diskon: Rp 720000.0\n"
          ]
        }
      ]
    }
  ]
}