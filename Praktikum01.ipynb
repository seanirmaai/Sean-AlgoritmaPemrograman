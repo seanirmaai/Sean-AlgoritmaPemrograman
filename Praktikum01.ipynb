{
  "nbformat": 4,
  "nbformat_minor": 0,
  "metadata": {
    "colab": {
      "provenance": [],
      "authorship_tag": "ABX9TyOK18MuX6/njm4O3/886Ppf",
      "include_colab_link": true
    },
    "kernelspec": {
      "name": "python3",
      "display_name": "Python 3"
    },
    "language_info": {
      "name": "python"
    }
  },
  "cells": [
    {
      "cell_type": "markdown",
      "metadata": {
        "id": "view-in-github",
        "colab_type": "text"
      },
      "source": [
        "<a href=\"https://colab.research.google.com/github/seanirmaai/Sean-AlgoritmaPemrograman/blob/main/Praktikum01.ipynb\" target=\"_parent\"><img src=\"https://colab.research.google.com/assets/colab-badge.svg\" alt=\"Open In Colab\"/></a>"
      ]
    },
    {
      "cell_type": "markdown",
      "source": [
        "# Menghitung Luas Persegi Panjang"
      ],
      "metadata": {
        "id": "I2M56atT2WIx"
      }
    },
    {
      "cell_type": "code",
      "execution_count": 2,
      "metadata": {
        "colab": {
          "base_uri": "https://localhost:8080/"
        },
        "id": "anMhnqK-2NvS",
        "outputId": "6f6d218b-e414-4be2-ec41-80bfde7af3f4"
      },
      "outputs": [
        {
          "output_type": "stream",
          "name": "stdout",
          "text": [
            "Masukkan panjang: 21\n",
            "Masukkan lebar: 7\n",
            "Luas persegi panjang = 147\n"
          ]
        }
      ],
      "source": [
        "p = int(input (\"Masukkan panjang: \"))\n",
        "l = int(input (\"Masukkan lebar: \"))\n",
        "luas = p * l\n",
        "print(\"Luas persegi panjang =\", luas)"
      ]
    },
    {
      "cell_type": "markdown",
      "source": [
        "# Menghitung Luas Segitiga"
      ],
      "metadata": {
        "id": "p3WL_e9p9Liw"
      }
    },
    {
      "cell_type": "code",
      "source": [
        "import math\n",
        "a = float(input(\"Masukkan sisi A: \"))\n",
        "b = float(input(\"Masukkan sisi B: \"))\n",
        "c = float(input(\"Masukkan sisi C: \"))\n",
        "s = (a+b+c) / 2\n",
        "luas = math.sqrt(s * (s - a) * (s - b) * (s -c ))\n",
        "print(\"Luas segitiga =\", luas)"
      ],
      "metadata": {
        "colab": {
          "base_uri": "https://localhost:8080/"
        },
        "id": "xA6jvUuo9eAz",
        "outputId": "96c28edb-c047-4ee5-d6e6-2ef56ab27a12"
      },
      "execution_count": 3,
      "outputs": [
        {
          "output_type": "stream",
          "name": "stdout",
          "text": [
            "Masukkan sisi A: 11\n",
            "Masukkan sisi B: 19\n",
            "Masukkan sisi C: 20\n",
            "Luas segitiga = 102.46950765959599\n"
          ]
        }
      ]
    },
    {
      "cell_type": "markdown",
      "source": [
        "# Konversi Suhu Celcius ke Fahrenheit"
      ],
      "metadata": {
        "id": "6DQq55Ee95zZ"
      }
    },
    {
      "cell_type": "code",
      "source": [
        "c = float(input(\"Masukkan suhu (°C): \"))\n",
        "f = (c * 9/5) + 32\n",
        "print(\"Hasil konversi =\", f, \"°F\")"
      ],
      "metadata": {
        "colab": {
          "base_uri": "https://localhost:8080/"
        },
        "id": "AQmfstX2-BTT",
        "outputId": "b16fd2fc-a985-46bb-dcfb-9e35b9244942"
      },
      "execution_count": 4,
      "outputs": [
        {
          "output_type": "stream",
          "name": "stdout",
          "text": [
            "Masukkan suhu (°C): 16\n",
            "Hasil konversi = 60.8 °F\n"
          ]
        }
      ]
    },
    {
      "cell_type": "markdown",
      "source": [
        "# Menghitung Umur Berdasarkan Tahun Lahir"
      ],
      "metadata": {
        "id": "Z0LAWHpj-WE-"
      }
    },
    {
      "cell_type": "code",
      "source": [
        "tahun_lahir = int(input(\"Masukkan tahun lahir: \"))\n",
        "tahun_sekarang = 2025\n",
        "umur = tahun_sekarang - tahun_lahir\n",
        "print(\"Umur anda =\", umur, \"tahun\")"
      ],
      "metadata": {
        "colab": {
          "base_uri": "https://localhost:8080/"
        },
        "id": "pB_GO7c4-ca4",
        "outputId": "fd1a958a-e675-419d-9566-12cab1e4df9d"
      },
      "execution_count": 5,
      "outputs": [
        {
          "output_type": "stream",
          "name": "stdout",
          "text": [
            "Masukkan tahun lahir: 2000\n",
            "Umur anda = 25 tahun\n"
          ]
        }
      ]
    },
    {
      "cell_type": "markdown",
      "source": [
        "# Menghitung Luas Lingkaran"
      ],
      "metadata": {
        "id": "DQ8NHo8Y-9DQ"
      }
    },
    {
      "cell_type": "code",
      "source": [
        "import math\n",
        "r = float(input(\"Masukkan jari-jari lingkaran: \"))\n",
        "luas = math.pi * r * r\n",
        "print(\"Luas lingkaran =\", luas)"
      ],
      "metadata": {
        "colab": {
          "base_uri": "https://localhost:8080/"
        },
        "id": "41TCkgeu-_Fp",
        "outputId": "ff76fca6-fe45-459a-bb4c-45686e168e37"
      },
      "execution_count": 6,
      "outputs": [
        {
          "output_type": "stream",
          "name": "stdout",
          "text": [
            "Masukkan jari-jari lingkaran: 21\n",
            "Luas lingkaran = 1385.442360233099\n"
          ]
        }
      ]
    },
    {
      "cell_type": "markdown",
      "source": [
        "# Menjumlahkan Tiga Bilangan"
      ],
      "metadata": {
        "id": "NoModdp4_Q4N"
      }
    },
    {
      "cell_type": "code",
      "source": [
        "a = int(input(\"Masukkan bilangan pertama: \"))\n",
        "b = int(input(\"Masukkan bilangan kedua: \"))\n",
        "c = int(input(\"Masukkan bilangan ketiga: \"))\n",
        "jumlah = a + b + c\n",
        "print(\"Jumlah =\", jumlah)"
      ],
      "metadata": {
        "colab": {
          "base_uri": "https://localhost:8080/"
        },
        "id": "c3Jgl34n_a50",
        "outputId": "b95737aa-4b9f-41ef-dd3e-273564369f2e"
      },
      "execution_count": 7,
      "outputs": [
        {
          "output_type": "stream",
          "name": "stdout",
          "text": [
            "Masukkan bilangan pertama: 11\n",
            "Masukkan bilangan kedua: 21\n",
            "Masukkan bilangan ketiga: 31\n",
            "Jumlah = 63\n"
          ]
        }
      ]
    }
  ]
}